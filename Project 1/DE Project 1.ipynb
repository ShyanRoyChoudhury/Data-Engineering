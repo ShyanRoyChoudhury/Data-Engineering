{
 "cells": [
  {
   "cell_type": "markdown",
   "id": "633a117d",
   "metadata": {},
   "source": [
    "Importing required Libraries"
   ]
  },
  {
   "cell_type": "code",
   "execution_count": 2,
   "id": "38a024c2",
   "metadata": {},
   "outputs": [],
   "source": [
    "import psycopg2\n",
    "import pandas as pd"
   ]
  },
  {
   "cell_type": "markdown",
   "id": "e3b7c85c",
   "metadata": {},
   "source": [
    "Function to establish connection with PostgreSQL in local machine"
   ]
  },
  {
   "cell_type": "code",
   "execution_count": 46,
   "id": "e21fea52",
   "metadata": {},
   "outputs": [],
   "source": [
    "def mk_connection():\n",
    "    conn = psycopg2.connect(\"host=localhost dbname=de_project1 user=postgres password=root\")\n",
    "    conn.set_session(autocommit=True)\n",
    "    cur=conn.cursor()\n",
    "    \n",
    "    \n",
    "    return conn, cur"
   ]
  },
  {
   "cell_type": "markdown",
   "id": "285cde25",
   "metadata": {},
   "source": [
    "Creating Database in Postgresql"
   ]
  },
  {
   "cell_type": "code",
   "execution_count": 30,
   "id": "83379d0a",
   "metadata": {},
   "outputs": [],
   "source": [
    "def create_database():\n",
    "    try:\n",
    "        cur.execute(\"create database DE_project1\")\n",
    "    except psycopg2.Error as e:\n",
    "        print(\"Error! Could not create database\")\n",
    "        print(e)"
   ]
  },
  {
   "cell_type": "markdown",
   "id": "df9bc1df",
   "metadata": {},
   "source": [
    "Calling Function for establish connection"
   ]
  },
  {
   "cell_type": "code",
   "execution_count": 47,
   "id": "29383943",
   "metadata": {},
   "outputs": [],
   "source": [
    "conn, cur = mk_connection()"
   ]
  },
  {
   "cell_type": "markdown",
   "id": "f32a4473",
   "metadata": {},
   "source": [
    "Function call for database creation"
   ]
  },
  {
   "cell_type": "code",
   "execution_count": 31,
   "id": "9e77735a",
   "metadata": {},
   "outputs": [],
   "source": [
    "db = create_database()"
   ]
  },
  {
   "cell_type": "markdown",
   "id": "4e81e819",
   "metadata": {},
   "source": [
    "Reading data from csv file"
   ]
  },
  {
   "cell_type": "code",
   "execution_count": 32,
   "id": "7ebba332",
   "metadata": {},
   "outputs": [],
   "source": [
    "gps_data = pd.read_csv(\"googleplaystore.csv\")"
   ]
  },
  {
   "cell_type": "markdown",
   "id": "1da3de35",
   "metadata": {},
   "source": [
    "Name of columns in \"googleplaystore.csv\""
   ]
  },
  {
   "cell_type": "code",
   "execution_count": 33,
   "id": "b7e2e80e",
   "metadata": {},
   "outputs": [
    {
     "data": {
      "text/plain": [
       "Index(['App', 'Category', 'Rating', 'Reviews', 'Size', 'Installs', 'Type',\n",
       "       'Price', 'Content Rating', 'Genres', 'Last Updated', 'Current Ver',\n",
       "       'Android Ver'],\n",
       "      dtype='object')"
      ]
     },
     "execution_count": 33,
     "metadata": {},
     "output_type": "execute_result"
    }
   ],
   "source": [
    "gps_data.columns"
   ]
  },
  {
   "cell_type": "code",
   "execution_count": 35,
   "id": "20ba2a80",
   "metadata": {},
   "outputs": [],
   "source": [
    "gps_data_clean = gps_data[['App','Category','Rating','Reviews','Size','Installs']]"
   ]
  },
  {
   "cell_type": "code",
   "execution_count": 36,
   "id": "772eafc5",
   "metadata": {},
   "outputs": [
    {
     "data": {
      "text/html": [
       "<div>\n",
       "<style scoped>\n",
       "    .dataframe tbody tr th:only-of-type {\n",
       "        vertical-align: middle;\n",
       "    }\n",
       "\n",
       "    .dataframe tbody tr th {\n",
       "        vertical-align: top;\n",
       "    }\n",
       "\n",
       "    .dataframe thead th {\n",
       "        text-align: right;\n",
       "    }\n",
       "</style>\n",
       "<table border=\"1\" class=\"dataframe\">\n",
       "  <thead>\n",
       "    <tr style=\"text-align: right;\">\n",
       "      <th></th>\n",
       "      <th>App</th>\n",
       "      <th>Category</th>\n",
       "      <th>Rating</th>\n",
       "      <th>Reviews</th>\n",
       "      <th>Size</th>\n",
       "      <th>Installs</th>\n",
       "    </tr>\n",
       "  </thead>\n",
       "  <tbody>\n",
       "    <tr>\n",
       "      <th>0</th>\n",
       "      <td>Photo Editor &amp; Candy Camera &amp; Grid &amp; ScrapBook</td>\n",
       "      <td>ART_AND_DESIGN</td>\n",
       "      <td>4.1</td>\n",
       "      <td>159</td>\n",
       "      <td>19M</td>\n",
       "      <td>10,000+</td>\n",
       "    </tr>\n",
       "    <tr>\n",
       "      <th>1</th>\n",
       "      <td>Coloring book moana</td>\n",
       "      <td>ART_AND_DESIGN</td>\n",
       "      <td>3.9</td>\n",
       "      <td>967</td>\n",
       "      <td>14M</td>\n",
       "      <td>500,000+</td>\n",
       "    </tr>\n",
       "    <tr>\n",
       "      <th>2</th>\n",
       "      <td>U Launcher Lite – FREE Live Cool Themes, Hide ...</td>\n",
       "      <td>ART_AND_DESIGN</td>\n",
       "      <td>4.7</td>\n",
       "      <td>87510</td>\n",
       "      <td>8.7M</td>\n",
       "      <td>5,000,000+</td>\n",
       "    </tr>\n",
       "    <tr>\n",
       "      <th>3</th>\n",
       "      <td>Sketch - Draw &amp; Paint</td>\n",
       "      <td>ART_AND_DESIGN</td>\n",
       "      <td>4.5</td>\n",
       "      <td>215644</td>\n",
       "      <td>25M</td>\n",
       "      <td>50,000,000+</td>\n",
       "    </tr>\n",
       "    <tr>\n",
       "      <th>4</th>\n",
       "      <td>Pixel Draw - Number Art Coloring Book</td>\n",
       "      <td>ART_AND_DESIGN</td>\n",
       "      <td>4.3</td>\n",
       "      <td>967</td>\n",
       "      <td>2.8M</td>\n",
       "      <td>100,000+</td>\n",
       "    </tr>\n",
       "  </tbody>\n",
       "</table>\n",
       "</div>"
      ],
      "text/plain": [
       "                                                 App        Category  Rating  \\\n",
       "0     Photo Editor & Candy Camera & Grid & ScrapBook  ART_AND_DESIGN     4.1   \n",
       "1                                Coloring book moana  ART_AND_DESIGN     3.9   \n",
       "2  U Launcher Lite – FREE Live Cool Themes, Hide ...  ART_AND_DESIGN     4.7   \n",
       "3                              Sketch - Draw & Paint  ART_AND_DESIGN     4.5   \n",
       "4              Pixel Draw - Number Art Coloring Book  ART_AND_DESIGN     4.3   \n",
       "\n",
       "  Reviews  Size     Installs  \n",
       "0     159   19M      10,000+  \n",
       "1     967   14M     500,000+  \n",
       "2   87510  8.7M   5,000,000+  \n",
       "3  215644   25M  50,000,000+  \n",
       "4     967  2.8M     100,000+  "
      ]
     },
     "execution_count": 36,
     "metadata": {},
     "output_type": "execute_result"
    }
   ],
   "source": [
    "gps_data_clean.head()"
   ]
  },
  {
   "cell_type": "markdown",
   "id": "8677a19f",
   "metadata": {},
   "source": [
    "Creating table in PostgreSQL"
   ]
  },
  {
   "cell_type": "code",
   "execution_count": 48,
   "id": "c528949e",
   "metadata": {},
   "outputs": [],
   "source": [
    "gps_data_table_create = (\"\"\"CREATE TABLE IF NOT EXISTS gps_data(\n",
    "App Varchar,\n",
    "Category Varchar,\n",
    "Rating Varchar,\n",
    "Reviews Varchar,\n",
    "Size Varchar,\n",
    "Installs numeric)\"\"\")\n",
    "cur.execute(gps_data_table_create)\n",
    "conn.commit()"
   ]
  },
  {
   "cell_type": "markdown",
   "id": "e0bbd9a5",
   "metadata": {},
   "source": [
    "Reading data from 2nd csv file"
   ]
  },
  {
   "cell_type": "code",
   "execution_count": 37,
   "id": "80aacb40",
   "metadata": {},
   "outputs": [],
   "source": [
    "gps_user_review = pd.read_csv(\"googleplaystore_user_reviews.csv\")"
   ]
  },
  {
   "cell_type": "code",
   "execution_count": 38,
   "id": "fb586e97",
   "metadata": {},
   "outputs": [
    {
     "data": {
      "text/plain": [
       "Index(['App', 'Translated_Review', 'Sentiment', 'Sentiment_Polarity',\n",
       "       'Sentiment_Subjectivity'],\n",
       "      dtype='object')"
      ]
     },
     "execution_count": 38,
     "metadata": {},
     "output_type": "execute_result"
    }
   ],
   "source": [
    "gps_user_review.columns"
   ]
  },
  {
   "cell_type": "code",
   "execution_count": 39,
   "id": "86a920ab",
   "metadata": {},
   "outputs": [
    {
     "data": {
      "text/html": [
       "<div>\n",
       "<style scoped>\n",
       "    .dataframe tbody tr th:only-of-type {\n",
       "        vertical-align: middle;\n",
       "    }\n",
       "\n",
       "    .dataframe tbody tr th {\n",
       "        vertical-align: top;\n",
       "    }\n",
       "\n",
       "    .dataframe thead th {\n",
       "        text-align: right;\n",
       "    }\n",
       "</style>\n",
       "<table border=\"1\" class=\"dataframe\">\n",
       "  <thead>\n",
       "    <tr style=\"text-align: right;\">\n",
       "      <th></th>\n",
       "      <th>App</th>\n",
       "      <th>Translated_Review</th>\n",
       "      <th>Sentiment</th>\n",
       "      <th>Sentiment_Polarity</th>\n",
       "      <th>Sentiment_Subjectivity</th>\n",
       "    </tr>\n",
       "  </thead>\n",
       "  <tbody>\n",
       "    <tr>\n",
       "      <th>0</th>\n",
       "      <td>10 Best Foods for You</td>\n",
       "      <td>I like eat delicious food. That's I'm cooking ...</td>\n",
       "      <td>Positive</td>\n",
       "      <td>1.00</td>\n",
       "      <td>0.533333</td>\n",
       "    </tr>\n",
       "    <tr>\n",
       "      <th>1</th>\n",
       "      <td>10 Best Foods for You</td>\n",
       "      <td>This help eating healthy exercise regular basis</td>\n",
       "      <td>Positive</td>\n",
       "      <td>0.25</td>\n",
       "      <td>0.288462</td>\n",
       "    </tr>\n",
       "    <tr>\n",
       "      <th>2</th>\n",
       "      <td>10 Best Foods for You</td>\n",
       "      <td>NaN</td>\n",
       "      <td>NaN</td>\n",
       "      <td>NaN</td>\n",
       "      <td>NaN</td>\n",
       "    </tr>\n",
       "    <tr>\n",
       "      <th>3</th>\n",
       "      <td>10 Best Foods for You</td>\n",
       "      <td>Works great especially going grocery store</td>\n",
       "      <td>Positive</td>\n",
       "      <td>0.40</td>\n",
       "      <td>0.875000</td>\n",
       "    </tr>\n",
       "    <tr>\n",
       "      <th>4</th>\n",
       "      <td>10 Best Foods for You</td>\n",
       "      <td>Best idea us</td>\n",
       "      <td>Positive</td>\n",
       "      <td>1.00</td>\n",
       "      <td>0.300000</td>\n",
       "    </tr>\n",
       "  </tbody>\n",
       "</table>\n",
       "</div>"
      ],
      "text/plain": [
       "                     App                                  Translated_Review  \\\n",
       "0  10 Best Foods for You  I like eat delicious food. That's I'm cooking ...   \n",
       "1  10 Best Foods for You    This help eating healthy exercise regular basis   \n",
       "2  10 Best Foods for You                                                NaN   \n",
       "3  10 Best Foods for You         Works great especially going grocery store   \n",
       "4  10 Best Foods for You                                       Best idea us   \n",
       "\n",
       "  Sentiment  Sentiment_Polarity  Sentiment_Subjectivity  \n",
       "0  Positive                1.00                0.533333  \n",
       "1  Positive                0.25                0.288462  \n",
       "2       NaN                 NaN                     NaN  \n",
       "3  Positive                0.40                0.875000  \n",
       "4  Positive                1.00                0.300000  "
      ]
     },
     "execution_count": 39,
     "metadata": {},
     "output_type": "execute_result"
    }
   ],
   "source": [
    "gps_user_review.head()"
   ]
  },
  {
   "cell_type": "code",
   "execution_count": null,
   "id": "27852250",
   "metadata": {},
   "outputs": [],
   "source": [
    "Creating table in postgreSQL db"
   ]
  },
  {
   "cell_type": "code",
   "execution_count": 50,
   "id": "35a21c7c",
   "metadata": {},
   "outputs": [],
   "source": [
    "gps_review_table_create=(\"\"\"CREATE TABLE IF NOT EXISTS gps_review(\n",
    "App varchar,\n",
    "Translated_Review varchar,\n",
    "Sentiment varchar,\n",
    "Sentiment_Polarity numeric,\n",
    "Sentiment_Subjectivity numeric)\"\"\")\n",
    "cur.execute(gps_review_table_create)\n",
    "conn.commit()"
   ]
  },
  {
   "cell_type": "markdown",
   "id": "d3af990c",
   "metadata": {},
   "source": [
    "Inserting data from CSV to PostgreSQL db"
   ]
  },
  {
   "cell_type": "code",
   "execution_count": 51,
   "id": "57756e56",
   "metadata": {},
   "outputs": [],
   "source": [
    "gps_data_clean_insert = (\"\"\"INSERT INTO gps_data(\n",
    "App,\n",
    "Category,\n",
    "Rating,\n",
    "Reviews,\n",
    "Size,\n",
    "Installs)\n",
    "VALUES(%s, %s, %s, %s, %s, %s)\"\"\")\n",
    "conn.commit()"
   ]
  },
  {
   "cell_type": "code",
   "execution_count": 61,
   "id": "2d71dad3",
   "metadata": {},
   "outputs": [],
   "source": [
    "for i, row in gps_data_clean.iterrows():\n",
    "    cur.execute(gps_data_clean_insert,list(row))"
   ]
  },
  {
   "cell_type": "markdown",
   "id": "35914643",
   "metadata": {},
   "source": [
    "Inserting data from CSV to PostgreSQL db"
   ]
  },
  {
   "cell_type": "code",
   "execution_count": 65,
   "id": "c20e4c15",
   "metadata": {},
   "outputs": [],
   "source": [
    "gps_user_review_insert=(\"\"\"INSERT INTO gps_review(\n",
    "App,\n",
    "Translated_Review,\n",
    "Sentiment,\n",
    "Sentiment_Polarity,\n",
    "Sentiment_Subjectivity)\n",
    "VALUES(%s, %s, %s, %s, %s)\n",
    "\"\"\")\n",
    "conn.commit()"
   ]
  },
  {
   "cell_type": "code",
   "execution_count": 66,
   "id": "17b428b9",
   "metadata": {},
   "outputs": [],
   "source": [
    "for i, row in gps_user_review.iterrows():\n",
    "    cur.execute(gps_user_review_insert,list(row))"
   ]
  },
  {
   "cell_type": "code",
   "execution_count": null,
   "id": "07f04650",
   "metadata": {},
   "outputs": [],
   "source": []
  }
 ],
 "metadata": {
  "kernelspec": {
   "display_name": "Python 3 (ipykernel)",
   "language": "python",
   "name": "python3"
  },
  "language_info": {
   "codemirror_mode": {
    "name": "ipython",
    "version": 3
   },
   "file_extension": ".py",
   "mimetype": "text/x-python",
   "name": "python",
   "nbconvert_exporter": "python",
   "pygments_lexer": "ipython3",
   "version": "3.10.7"
  }
 },
 "nbformat": 4,
 "nbformat_minor": 5
}

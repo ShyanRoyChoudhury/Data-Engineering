{
  "nbformat": 4,
  "nbformat_minor": 0,
  "metadata": {
    "colab": {
      "provenance": []
    },
    "kernelspec": {
      "name": "python3",
      "display_name": "Python 3"
    },
    "language_info": {
      "name": "python"
    }
  },
  "cells": [
    {
      "cell_type": "code",
      "source": [
        "!pip install kafka-python"
      ],
      "metadata": {
        "id": "fJvrDD83KM4S"
      },
      "execution_count": null,
      "outputs": []
    },
    {
      "cell_type": "code",
      "source": [
        "!pip install s3fs"
      ],
      "metadata": {
        "id": "0pi93aemb_6D"
      },
      "execution_count": null,
      "outputs": []
    },
    {
      "cell_type": "code",
      "source": [
        "!pip install awscli"
      ],
      "metadata": {
        "id": "4O84wkGn1h_c"
      },
      "execution_count": null,
      "outputs": []
    },
    {
      "cell_type": "code",
      "source": [
        "!aws --version"
      ],
      "metadata": {
        "colab": {
          "base_uri": "https://localhost:8080/"
        },
        "id": "0uJ6tJmriVV6",
        "outputId": "f4dd9f9e-586a-477c-c111-d97775dca535"
      },
      "execution_count": 2,
      "outputs": [
        {
          "output_type": "stream",
          "name": "stdout",
          "text": [
            "aws-cli/1.27.34 Python/3.8.16 Linux/5.10.133+ botocore/1.29.34\n"
          ]
        }
      ]
    },
    {
      "cell_type": "code",
      "source": [
        "!aws configure"
      ],
      "metadata": {
        "id": "j7YJK4P9iffH"
      },
      "execution_count": null,
      "outputs": []
    },
    {
      "cell_type": "code",
      "source": [
        "!pip install boto3"
      ],
      "metadata": {
        "id": "yY8AUApjXdbU"
      },
      "execution_count": null,
      "outputs": []
    },
    {
      "cell_type": "code",
      "source": [
        "!pip install colab-env --upgrade"
      ],
      "metadata": {
        "colab": {
          "base_uri": "https://localhost:8080/"
        },
        "id": "A_8mYGohbMKe",
        "outputId": "84533892-d3ba-4c88-c0af-39cb3c69e3d1"
      },
      "execution_count": null,
      "outputs": [
        {
          "output_type": "stream",
          "name": "stdout",
          "text": [
            "Installing collected packages: python-dotenv, colab-env\n",
            "Successfully installed colab-env-0.2.0 python-dotenv-0.21.0\n"
          ]
        }
      ]
    },
    {
      "cell_type": "code",
      "source": [
        "from google.colab import drive\n",
        "drive.mount('/content/drive')"
      ],
      "metadata": {
        "colab": {
          "base_uri": "https://localhost:8080/"
        },
        "id": "taIYpjex5LiI",
        "outputId": "cf1b4bd0-097d-46a0-8295-93d10a6dd76e"
      },
      "execution_count": 6,
      "outputs": [
        {
          "output_type": "stream",
          "name": "stdout",
          "text": [
            "Mounted at /content/drive\n"
          ]
        }
      ]
    },
    {
      "cell_type": "code",
      "source": [
        "!more gdrive/My\\ Drive/vars.env"
      ],
      "metadata": {
        "id": "XvZilQG_bXFJ"
      },
      "execution_count": null,
      "outputs": []
    },
    {
      "cell_type": "code",
      "execution_count": 14,
      "metadata": {
        "id": "ma8RA9LPKGDL"
      },
      "outputs": [],
      "source": [
        "import pandas as pd\n",
        "from kafka import KafkaProducer, KafkaConsumer\n",
        "from time import sleep\n",
        "import json\n",
        "from json import dumps,loads\n",
        "from s3fs import S3FileSystem"
      ]
    },
    {
      "cell_type": "code",
      "source": [
        "s3 = S3FileSystem()"
      ],
      "metadata": {
        "id": "cUrf6M_vzreD"
      },
      "execution_count": 15,
      "outputs": []
    },
    {
      "cell_type": "code",
      "source": [
        "consumer1 = KafkaConsumer(\n",
        "    'sp500_comp',\n",
        "    bootstrap_servers = ['13.126.222.247:9092'],\n",
        "    value_deserializer = lambda x: loads(x.decode('utf-8')))"
      ],
      "metadata": {
        "colab": {
          "base_uri": "https://localhost:8080/"
        },
        "id": "Erz5ZYqJKM6j",
        "outputId": "0779ed7b-d742-4cb8-a7e3-d868aae2ba41"
      },
      "execution_count": 12,
      "outputs": [
        {
          "output_type": "stream",
          "name": "stderr",
          "text": [
            "WARNING:kafka.coordinator.consumer:group_id is None: disabling auto-commit.\n"
          ]
        }
      ]
    },
    {
      "cell_type": "code",
      "source": [
        "consumer2 = KafkaConsumer(\n",
        "    'sp500_stocks',\n",
        "    bootstrap_servers = ['13.126.222.247:9092'],\n",
        "    value_deserializer = lambda x: loads(x.decode('utf-8')))"
      ],
      "metadata": {
        "colab": {
          "base_uri": "https://localhost:8080/"
        },
        "id": "e51qhaBtv4ow",
        "outputId": "dca2bd58-e1ed-4b0d-c9b4-ea61c88d2661"
      },
      "execution_count": 18,
      "outputs": [
        {
          "output_type": "stream",
          "name": "stderr",
          "text": [
            "WARNING:kafka.coordinator.consumer:group_id is None: disabling auto-commit.\n"
          ]
        }
      ]
    },
    {
      "cell_type": "code",
      "source": [
        "for count, i in enumerate(consumer1):\n",
        "  with s3.open(\"s3://kafka-stock-market-project/sp500_companies/company_{}.json\".format(count), 'w') as file:\n",
        "    json.dump(i.value, file)\n",
        "#for c in consumer:\n",
        " # print(c.value)"
      ],
      "metadata": {
        "id": "_VkYmqRhKM8x"
      },
      "execution_count": null,
      "outputs": []
    },
    {
      "cell_type": "code",
      "source": [
        "for count, i in enumerate(consumer2):\n",
        "  with s3.open(\"s3://kafka-stock-market-project/sp500_stocks/stock_{}.json\".format(count), 'w') as file:\n",
        "    json.dump(i.value, file)"
      ],
      "metadata": {
        "id": "mXrtkntiqjie"
      },
      "execution_count": null,
      "outputs": []
    }
  ]
}